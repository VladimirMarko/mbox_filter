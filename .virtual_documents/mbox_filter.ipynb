needles = [
]


import mailbox
from pathlib import Path


root = Path('.')

root


inputRoot = root.joinpath('input')
outputRoot = root.joinpath('output')

inputRoot.absolute(), outputRoot.absolute()


paths = [f.relative_to(inputRoot) for f in inputRoot.rglob('*') if f.is_file()]

paths





for path in paths:
    inputPath = inputRoot.joinpath(path)
    outputPath = outputRoot.joinpath(path)

    inputMBox = mailbox.mbox(inputPath)
    outputMBox = mailbox.mbox(outputPath)

    print('INIT.')
    outputMBox.unlock()
    outputMBox.clear()
    outputMBox.lock()

    print('START.')
    for message in inputMBox:

        def getAll(key):
            return message.get_all(key, [])

        source = getAll('From')
        target = getAll('To') + getAll('Cc') + getAll('Bcc')
        union = source + target

        def find(needles, haystacks):
            for haystack in haystacks:
                for needle in needles:
                    if needle in haystack:
                        return True
            return False

        if find(needles, union):
            outputMBox.add(message)
            print('ADDED:', union)
    inputMBox.close()
    outputMBox.close()
    print('DONE.')
