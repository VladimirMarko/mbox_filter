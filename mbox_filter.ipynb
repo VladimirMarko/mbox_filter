{
 "cells": [
  {
   "cell_type": "code",
   "execution_count": null,
   "id": "1e55625b-1427-4488-889d-8dfc78582f53",
   "metadata": {},
   "outputs": [],
   "source": [
    "needles = [\n",
    "]"
   ]
  },
  {
   "cell_type": "code",
   "execution_count": null,
   "id": "106d6b02-3552-413b-89bf-40442257a079",
   "metadata": {},
   "outputs": [],
   "source": [
    "import mailbox\n",
    "from pathlib import Path"
   ]
  },
  {
   "cell_type": "code",
   "execution_count": null,
   "id": "e5ab6bce-d7a7-4f8b-a1ac-b4b4b365bd90",
   "metadata": {},
   "outputs": [],
   "source": [
    "root = Path('.')\n",
    "\n",
    "root"
   ]
  },
  {
   "cell_type": "code",
   "execution_count": null,
   "id": "3c4b9b2a-920e-4dee-929b-2c346f09e102",
   "metadata": {},
   "outputs": [],
   "source": [
    "inputRoot = root.joinpath('input')\n",
    "outputRoot = root.joinpath('output')\n",
    "\n",
    "inputRoot.absolute(), outputRoot.absolute()"
   ]
  },
  {
   "cell_type": "code",
   "execution_count": null,
   "id": "c492dda2-309e-40e7-8796-b47279bff116",
   "metadata": {},
   "outputs": [],
   "source": [
    "paths = [f.relative_to(inputRoot) for f in inputRoot.rglob('*') if f.is_file()]\n",
    "\n",
    "paths"
   ]
  },
  {
   "cell_type": "raw",
   "id": "122ef75e-3f82-441a-a933-6aae2eb18d96",
   "metadata": {
    "scrolled": true
   },
   "source": [
    "for path in paths:\n",
    "    outputPath = outputRoot.joinpath(path)\n",
    "    outputPath.unlink(missing_ok=True)"
   ]
  },
  {
   "cell_type": "code",
   "execution_count": null,
   "id": "82a40720-b040-4dea-86c9-80a7295ff987",
   "metadata": {},
   "outputs": [],
   "source": [
    "for path in paths:\n",
    "    inputPath = inputRoot.joinpath(path)\n",
    "    outputPath = outputRoot.joinpath(path)\n",
    "\n",
    "    inputMBox = mailbox.mbox(inputPath)\n",
    "    outputMBox = mailbox.mbox(outputPath)\n",
    "\n",
    "    print('INIT.')\n",
    "    outputMBox.unlock()\n",
    "    outputMBox.clear()\n",
    "    outputMBox.lock()\n",
    "\n",
    "    print('START.')\n",
    "    for message in inputMBox:\n",
    "\n",
    "        def getAll(key):\n",
    "            return message.get_all(key, [])\n",
    "\n",
    "        source = getAll('From')\n",
    "        target = getAll('To') + getAll('Cc') + getAll('Bcc')\n",
    "        union = source + target\n",
    "\n",
    "        def find(needles, haystacks):\n",
    "            for haystack in haystacks:\n",
    "                for needle in needles:\n",
    "                    if needle in haystack:\n",
    "                        return True\n",
    "            return False\n",
    "\n",
    "        if find(needles, union):\n",
    "            outputMBox.add(message)\n",
    "            print('ADDED:', union)\n",
    "    inputMBox.close()\n",
    "    outputMBox.close()\n",
    "    print('DONE.')"
   ]
  }
 ],
 "metadata": {
  "ipyflow": {
   "cell_children": {
    "004f65ba-4c25-42f7-bce1-f13a42c19dc3": [],
    "0621c551-86a4-4586-9c82-0ddf545be09b": [],
    "106d6b02-3552-413b-89bf-40442257a079": [
     "82a40720-b040-4dea-86c9-80a7295ff987",
     "e5ab6bce-d7a7-4f8b-a1ac-b4b4b365bd90"
    ],
    "1e55625b-1427-4488-889d-8dfc78582f53": [
     "82a40720-b040-4dea-86c9-80a7295ff987"
    ],
    "1e7573d0-504a-468c-87f6-600116cd3552": [],
    "3977bca2-f063-4163-b000-6338afa92da3": [],
    "3b726bf9-361d-4bc6-a25c-debe5a03f752": [],
    "3c4b9b2a-920e-4dee-929b-2c346f09e102": [
     "82a40720-b040-4dea-86c9-80a7295ff987",
     "c492dda2-309e-40e7-8796-b47279bff116"
    ],
    "3d34d38d-c214-46e1-b30c-42e8f673c019": [],
    "41b1ba5d-363d-4cf5-a1dd-6bf9ea190861": [],
    "486ca4cf-5ace-4b47-aa8f-cd0ac11d28d6": [
     "a5917797-4234-44e6-b3f4-4522dd84ed21",
     "dbf1edf8-a4c3-41fb-ae58-f0d38d5a7f9d"
    ],
    "4c323648-f2f5-461c-8fbd-63a4052cceed": [],
    "5708561d-2d4e-415f-92c4-ad106f12879e": [
     "a5917797-4234-44e6-b3f4-4522dd84ed21",
     "dbf1edf8-a4c3-41fb-ae58-f0d38d5a7f9d"
    ],
    "5abc46fb-b55b-436f-8ead-306e9c8b8074": [
     "486ca4cf-5ace-4b47-aa8f-cd0ac11d28d6",
     "c492dda2-309e-40e7-8796-b47279bff116"
    ],
    "62d4ed82-e456-431d-ba09-5bac67e119d0": [],
    "7f40971b-fff1-441a-838c-0ef562a64a82": [
     "41b1ba5d-363d-4cf5-a1dd-6bf9ea190861",
     "e5ab6bce-d7a7-4f8b-a1ac-b4b4b365bd90"
    ],
    "80479547-1fe1-4d5b-b956-eb863338965c": [],
    "81bd115d-e768-4157-b875-7a9e84e0123a": [],
    "82a40720-b040-4dea-86c9-80a7295ff987": [],
    "82b0413d-52ef-40b2-9d6d-36131454f0da": [],
    "8546d05e-2d3a-4a99-a772-334dbe135e0d": [],
    "943aa6da-03df-4516-8c64-8fd463d7a034": [],
    "967d930e-bb97-44c1-be3d-b1162629ec47": [],
    "9a6f4422-d24f-451c-b296-172a3fe4c9d6": [],
    "a3a89cd0-6656-441f-9a69-aa33c45ff693": [],
    "a5917797-4234-44e6-b3f4-4522dd84ed21": [],
    "a594871b-7c4e-4cc7-bb08-71b1a8da49d1": [],
    "aa7ebdfa-adde-4c2f-b3bc-16df773772ff": [],
    "af7e899a-0718-4c4b-bcce-0281baf9e66c": [],
    "b566dd1a-6625-4b09-a76e-11cb9ac07c68": [],
    "bb8c9de0-fad4-491b-971b-f131bb503372": [],
    "bcbd32eb-e2b2-4e93-bdf7-a93d8ffe0d12": [],
    "c492dda2-309e-40e7-8796-b47279bff116": [
     "82a40720-b040-4dea-86c9-80a7295ff987"
    ],
    "c8e935e8-4eeb-4732-acb7-57a142e760a0": [],
    "c9cd84d1-d5c3-471d-acfd-b8cf12a7f1b5": [],
    "d9a47f6a-3a41-4398-846e-d5dcc86d3a1e": [],
    "dbf1edf8-a4c3-41fb-ae58-f0d38d5a7f9d": [],
    "e0b414fe-cd6f-4982-9ba0-d364a6905a61": [],
    "e5ab6bce-d7a7-4f8b-a1ac-b4b4b365bd90": [
     "3c4b9b2a-920e-4dee-929b-2c346f09e102"
    ],
    "e741595f-281c-4c8a-b805-19cdeeb37d0a": [],
    "ee3d6196-6512-4267-b313-be13a4a86fbe": [],
    "fc4cd381-2e15-4a54-9235-5f52b9af7fc7": []
   },
   "cell_parents": {
    "004f65ba-4c25-42f7-bce1-f13a42c19dc3": [],
    "0621c551-86a4-4586-9c82-0ddf545be09b": [],
    "106d6b02-3552-413b-89bf-40442257a079": [],
    "1e55625b-1427-4488-889d-8dfc78582f53": [],
    "1e7573d0-504a-468c-87f6-600116cd3552": [],
    "3977bca2-f063-4163-b000-6338afa92da3": [],
    "3b726bf9-361d-4bc6-a25c-debe5a03f752": [],
    "3c4b9b2a-920e-4dee-929b-2c346f09e102": [
     "e5ab6bce-d7a7-4f8b-a1ac-b4b4b365bd90"
    ],
    "3d34d38d-c214-46e1-b30c-42e8f673c019": [],
    "41b1ba5d-363d-4cf5-a1dd-6bf9ea190861": [
     "3c4b9b2a-920e-4dee-929b-2c346f09e102",
     "c492dda2-309e-40e7-8796-b47279bff116",
     "7f40971b-fff1-441a-838c-0ef562a64a82"
    ],
    "486ca4cf-5ace-4b47-aa8f-cd0ac11d28d6": [
     "3c4b9b2a-920e-4dee-929b-2c346f09e102"
    ],
    "4c323648-f2f5-461c-8fbd-63a4052cceed": [],
    "5708561d-2d4e-415f-92c4-ad106f12879e": [
     "7f40971b-fff1-441a-838c-0ef562a64a82"
    ],
    "5abc46fb-b55b-436f-8ead-306e9c8b8074": [],
    "62d4ed82-e456-431d-ba09-5bac67e119d0": [],
    "7f40971b-fff1-441a-838c-0ef562a64a82": [],
    "80479547-1fe1-4d5b-b956-eb863338965c": [
     "5708561d-2d4e-415f-92c4-ad106f12879e",
     "7f40971b-fff1-441a-838c-0ef562a64a82"
    ],
    "81bd115d-e768-4157-b875-7a9e84e0123a": [],
    "82a40720-b040-4dea-86c9-80a7295ff987": [
     "3c4b9b2a-920e-4dee-929b-2c346f09e102",
     "106d6b02-3552-413b-89bf-40442257a079",
     "c492dda2-309e-40e7-8796-b47279bff116",
     "1e55625b-1427-4488-889d-8dfc78582f53"
    ],
    "82b0413d-52ef-40b2-9d6d-36131454f0da": [],
    "8546d05e-2d3a-4a99-a772-334dbe135e0d": [],
    "943aa6da-03df-4516-8c64-8fd463d7a034": [],
    "967d930e-bb97-44c1-be3d-b1162629ec47": [],
    "9a6f4422-d24f-451c-b296-172a3fe4c9d6": [
     "7f40971b-fff1-441a-838c-0ef562a64a82",
     "486ca4cf-5ace-4b47-aa8f-cd0ac11d28d6",
     "5708561d-2d4e-415f-92c4-ad106f12879e"
    ],
    "a3a89cd0-6656-441f-9a69-aa33c45ff693": [],
    "a5917797-4234-44e6-b3f4-4522dd84ed21": [
     "7f40971b-fff1-441a-838c-0ef562a64a82"
    ],
    "a594871b-7c4e-4cc7-bb08-71b1a8da49d1": [],
    "aa7ebdfa-adde-4c2f-b3bc-16df773772ff": [],
    "af7e899a-0718-4c4b-bcce-0281baf9e66c": [],
    "b566dd1a-6625-4b09-a76e-11cb9ac07c68": [],
    "bb8c9de0-fad4-491b-971b-f131bb503372": [],
    "bcbd32eb-e2b2-4e93-bdf7-a93d8ffe0d12": [],
    "c492dda2-309e-40e7-8796-b47279bff116": [
     "3c4b9b2a-920e-4dee-929b-2c346f09e102"
    ],
    "c8e935e8-4eeb-4732-acb7-57a142e760a0": [],
    "c9cd84d1-d5c3-471d-acfd-b8cf12a7f1b5": [],
    "d9a47f6a-3a41-4398-846e-d5dcc86d3a1e": [],
    "dbf1edf8-a4c3-41fb-ae58-f0d38d5a7f9d": [],
    "e0b414fe-cd6f-4982-9ba0-d364a6905a61": [
     "3c4b9b2a-920e-4dee-929b-2c346f09e102",
     "c492dda2-309e-40e7-8796-b47279bff116"
    ],
    "e5ab6bce-d7a7-4f8b-a1ac-b4b4b365bd90": [
     "106d6b02-3552-413b-89bf-40442257a079"
    ],
    "e741595f-281c-4c8a-b805-19cdeeb37d0a": [],
    "ee3d6196-6512-4267-b313-be13a4a86fbe": [],
    "fc4cd381-2e15-4a54-9235-5f52b9af7fc7": []
   }
  },
  "kernelspec": {
   "display_name": "Python 3 (ipyflow)",
   "language": "python",
   "name": "ipyflow"
  },
  "language_info": {
   "codemirror_mode": {
    "name": "ipython",
    "version": 3
   },
   "file_extension": ".py",
   "mimetype": "text/x-python",
   "name": "python",
   "nbconvert_exporter": "python",
   "pygments_lexer": "ipython3",
   "version": "3.12.4"
  }
 },
 "nbformat": 4,
 "nbformat_minor": 5
}
